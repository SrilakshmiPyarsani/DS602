{
 "cells": [
  {
   "cell_type": "markdown",
   "id": "318de7cb",
   "metadata": {},
   "source": [
    "# Week11 - Clustering Lab\n",
    "\n",
    "* Create clusters for the following dataset\n",
    "* Choose a meaningful cluster count\n",
    "* Identify potential labels for each cluster"
   ]
  },
  {
   "cell_type": "code",
   "execution_count": 1,
   "id": "4089dbd4",
   "metadata": {},
   "outputs": [
    {
     "data": {
      "text/html": [
       "<div>\n",
       "<style scoped>\n",
       "    .dataframe tbody tr th:only-of-type {\n",
       "        vertical-align: middle;\n",
       "    }\n",
       "\n",
       "    .dataframe tbody tr th {\n",
       "        vertical-align: top;\n",
       "    }\n",
       "\n",
       "    .dataframe thead th {\n",
       "        text-align: right;\n",
       "    }\n",
       "</style>\n",
       "<table border=\"1\" class=\"dataframe\">\n",
       "  <thead>\n",
       "    <tr style=\"text-align: right;\">\n",
       "      <th></th>\n",
       "      <th>name</th>\n",
       "      <th>text</th>\n",
       "    </tr>\n",
       "  </thead>\n",
       "  <tbody>\n",
       "    <tr>\n",
       "      <th>0</th>\n",
       "      <td>Digby Morrell</td>\n",
       "      <td>digby morrell born 10 october 1979 is a former...</td>\n",
       "    </tr>\n",
       "    <tr>\n",
       "      <th>1</th>\n",
       "      <td>Alfred J. Lewy</td>\n",
       "      <td>alfred j lewy aka sandy lewy graduated from un...</td>\n",
       "    </tr>\n",
       "    <tr>\n",
       "      <th>2</th>\n",
       "      <td>Harpdog Brown</td>\n",
       "      <td>harpdog brown is a singer and harmonica player...</td>\n",
       "    </tr>\n",
       "    <tr>\n",
       "      <th>3</th>\n",
       "      <td>Franz Rottensteiner</td>\n",
       "      <td>franz rottensteiner born in waidmannsfeld lowe...</td>\n",
       "    </tr>\n",
       "    <tr>\n",
       "      <th>4</th>\n",
       "      <td>G-Enka</td>\n",
       "      <td>henry krvits born 30 december 1974 in tallinn ...</td>\n",
       "    </tr>\n",
       "  </tbody>\n",
       "</table>\n",
       "</div>"
      ],
      "text/plain": [
       "                  name                                               text\n",
       "0        Digby Morrell  digby morrell born 10 october 1979 is a former...\n",
       "1       Alfred J. Lewy  alfred j lewy aka sandy lewy graduated from un...\n",
       "2        Harpdog Brown  harpdog brown is a singer and harmonica player...\n",
       "3  Franz Rottensteiner  franz rottensteiner born in waidmannsfeld lowe...\n",
       "4               G-Enka  henry krvits born 30 december 1974 in tallinn ..."
      ]
     },
     "execution_count": 1,
     "metadata": {},
     "output_type": "execute_result"
    }
   ],
   "source": [
    "from zipfile import ZipFile\n",
    "from io import BytesIO\n",
    "import urllib.request as urllib2\n",
    "import pandas as pd\n",
    "\n",
    "def get_data():\n",
    "    r = urllib2.urlopen(\"https://github.com/msaricaumbc/DS_data/blob/master/ds602/people_wiki.zip?raw=true\").read()\n",
    "    file = ZipFile(BytesIO(r))\n",
    "    people_wiki_csv = file.open(\"people_wiki.csv\")\n",
    "    people = pd.read_csv(people_wiki_csv)\n",
    "    people.drop('URI', inplace=True, axis=1)\n",
    "    return people\n",
    "\n",
    "people = get_data()\n",
    "people.head()"
   ]
  },
  {
   "cell_type": "code",
   "execution_count": null,
   "id": "5949a090",
   "metadata": {},
   "outputs": [],
   "source": [
    "from sklearn.cluster import KMeans\n",
    "import matplotlib.pyplot as plt\n",
    "\n",
    "from sklearn.feature_extraction.text import TfidfVectorizer\n",
    "\n",
    "tfidf_vectorizer = TfidfVectorizer(stop_words='english')\n",
    "tfidf_matrix = tfidf_vectorizer.fit_transform(people['text'])\n",
    "\n",
    "wcss = []\n",
    "for i in range(1, 11):\n",
    "    kmeans = KMeans(n_clusters=i, init='k-means++', max_iter=300, n_init=10, random_state=0)\n",
    "    kmeans.fit(tfidf_matrix)\n",
    "    wcss.append(kmeans.inertia_)\n",
    "\n",
    "plt.plot(range(1, 11), wcss)\n",
    "plt.title('Elbow Method')\n",
    "plt.xlabel('Number of clusters')\n",
    "plt.ylabel('WCSS')\n",
    "plt.show()\n"
   ]
  },
  {
   "cell_type": "markdown",
   "id": "a39c2fb1-cbec-4e8f-8c75-341a90f917a2",
   "metadata": {},
   "source": [
    "Meaningful Cluster Count can be 5 as WCSS shows a slower rate of decrease after 5 clusters."
   ]
  },
  {
   "cell_type": "code",
   "execution_count": null,
   "id": "3fdac6be-4894-4d56-b3f5-4d30fc151037",
   "metadata": {},
   "outputs": [],
   "source": [
    "num_clusters = 5\n",
    "kmeans = KMeans(n_clusters=num_clusters, init='k-means++', max_iter=300, n_init=10, random_state=0)\n",
    "kmeans.fit(tfidf_matrix)\n",
    "\n",
    "people['cluster_label'] = kmeans.labels_\n",
    "\n",
    "print(\"Top terms per cluster:\")\n",
    "order_centroids = kmeans.cluster_centers_.argsort()[:, ::-1]\n",
    "terms = tfidf_vectorizer.get_feature_names_out()\n",
    "for i in range(num_clusters):\n",
    "    print(\"Cluster %d:\" % i, end='')\n",
    "    for ind in order_centroids[i, :10]:\n",
    "        print(' %s' % terms[ind], end='')\n",
    "    print()\n",
    "\n",
    "cluster_labels = sorted(people['cluster_label'].unique())\n",
    "for label in cluster_labels:\n",
    "    cluster_data = people[people['cluster_label'] == label]\n",
    "    print(\"\\nCluster {}:\".format(label))\n",
    "    print(cluster_data['name'].head())\n"
   ]
  },
  {
   "cell_type": "markdown",
   "id": "d33e95c4-ec9f-4e86-a731-086df1f05ba0",
   "metadata": {},
   "source": [
    "Based on the terms per cluster:\n",
    "\n",
    "1. **Cluster 0 - Music**: This cluster seems to represent individuals associated with music, including musicians, and bands.\n",
    "\n",
    "2. **Cluster 1 - Football**: This cluster appears to contain individuals related to football.\n",
    "\n",
    "3. **Cluster 2 - Artists**: Individuals in this cluster seem to be related to research, and art\n",
    "   \n",
    "4. **Cluster 3 - Politics**: This cluster contains individuals involved in politics.\n",
    "\n",
    "5. **Cluster 4 - Filmmakers**: This cluster seems to represent individuals from the entertainment industry, including actors, directors, and filmmakers.\n",
    "    cluster. However, further analysis and domain knowledge may be required to refine these labels. Let me know if you need further assistance!"
   ]
  },
  {
   "cell_type": "markdown",
   "id": "2e80d9ca-ea92-45e9-90b3-29092751988d",
   "metadata": {},
   "source": [
    "Group:\n",
    "- Chandana Anugu\n",
    "- Sai Sindhu Beeravolu\n",
    "- Sudheer Puppala\n",
    "- Srilakshmi Pyarsani"
   ]
  },
  {
   "cell_type": "code",
   "execution_count": null,
   "id": "8bc66cb6-c963-45fa-9fe4-f7eb78616041",
   "metadata": {},
   "outputs": [],
   "source": []
  }
 ],
 "metadata": {
  "kernelspec": {
   "display_name": "Python 3 (ipykernel)",
   "language": "python",
   "name": "python3"
  },
  "language_info": {
   "codemirror_mode": {
    "name": "ipython",
    "version": 3
   },
   "file_extension": ".py",
   "mimetype": "text/x-python",
   "name": "python",
   "nbconvert_exporter": "python",
   "pygments_lexer": "ipython3",
   "version": "3.11.5"
  },
  "toc": {
   "base_numbering": 1,
   "nav_menu": {},
   "number_sections": false,
   "sideBar": true,
   "skip_h1_title": false,
   "title_cell": "Table of Contents",
   "title_sidebar": "Contents",
   "toc_cell": false,
   "toc_position": {},
   "toc_section_display": true,
   "toc_window_display": true
  }
 },
 "nbformat": 4,
 "nbformat_minor": 5
}
