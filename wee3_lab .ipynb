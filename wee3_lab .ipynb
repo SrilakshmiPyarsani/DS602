{
 "cells": [
  {
   "cell_type": "markdown",
   "id": "57771d6f",
   "metadata": {
    "id": "57771d6f"
   },
   "source": [
    "# Week 3 - Lab"
   ]
  },
  {
   "cell_type": "markdown",
   "id": "ccb647fd",
   "metadata": {
    "id": "ccb647fd"
   },
   "source": [
    "## Part1:\n",
    "#### Explain briefly (1-2 sentences)"
   ]
  },
  {
   "cell_type": "markdown",
   "id": "1d4ce05f",
   "metadata": {
    "id": "1d4ce05f"
   },
   "source": [
    "1. Differences between supervised and unsupervised learning?  \n"
   ]
  },
  {
   "cell_type": "markdown",
   "id": "03e12e71",
   "metadata": {
    "id": "03e12e71"
   },
   "source": [
    "supervised learning: Deals with labeled data for predictive modeling.\n",
    "\n",
    "unsupervised learning: Focuses on extracting patterns and structures from unlabeled data."
   ]
  },
  {
   "cell_type": "markdown",
   "id": "ff70d958",
   "metadata": {
    "id": "ff70d958"
   },
   "source": [
    "2. Differences between classification and regression?  "
   ]
  },
  {
   "cell_type": "markdown",
   "id": "8a7b813d",
   "metadata": {
    "id": "8a7b813d"
   },
   "source": [
    "Your answer"
   ]
  },
  {
   "cell_type": "markdown",
   "id": "r_IThcniVZa4",
   "metadata": {
    "id": "r_IThcniVZa4"
   },
   "source": [
    "Classification: we can apply classification on two outcomes on labelled data\n",
    "\n",
    "Regression: Regression mostly focus on continous values the predicted outcome can be continous values"
   ]
  },
  {
   "cell_type": "markdown",
   "id": "d99b1c51",
   "metadata": {
    "id": "d99b1c51"
   },
   "source": [
    "3. Classification and regression are the only types of supervised learning?"
   ]
  },
  {
   "cell_type": "markdown",
   "id": "dc69142e",
   "metadata": {
    "id": "dc69142e"
   },
   "source": [
    "No, classification and regression are not only type of supervised learning"
   ]
  },
  {
   "cell_type": "markdown",
   "id": "2dddc898",
   "metadata": {
    "id": "2dddc898"
   },
   "source": [
    "## Part2\n",
    "\n",
    "#### Write a rule based predictor.\n",
    "Do your EDA and complete `predict_one` function below.\n",
    "Your model does not need to be perfect!\n",
    "\n",
    "* Don't use a machine learning model"
   ]
  },
  {
   "cell_type": "code",
   "execution_count": 1,
   "id": "76611fb3",
   "metadata": {
    "colab": {
     "base_uri": "https://localhost:8080/"
    },
    "id": "76611fb3",
    "outputId": "7df7c305-340f-4e81-dca0-9041e7924746"
   },
   "outputs": [
    {
     "name": "stdout",
     "output_type": "stream",
     "text": [
      "<class 'pandas.core.frame.DataFrame'>\n",
      "RangeIndex: 150 entries, 0 to 149\n",
      "Data columns (total 5 columns):\n",
      " #   Column        Non-Null Count  Dtype  \n",
      "---  ------        --------------  -----  \n",
      " 0   sepal_length  150 non-null    float64\n",
      " 1   sepal_width   150 non-null    float64\n",
      " 2   petal_length  150 non-null    float64\n",
      " 3   petal_width   150 non-null    float64\n",
      " 4   species       150 non-null    object \n",
      "dtypes: float64(4), object(1)\n",
      "memory usage: 6.0+ KB\n"
     ]
    }
   ],
   "source": [
    "import pandas as pd\n",
    "import numpy as np\n",
    "from matplotlib import pyplot as plt\n",
    "\n",
    "df = pd.read_csv('https://raw.githubusercontent.com/msaricaumbc/DS_data/master/ds602/iris.csv')\n",
    "df.info()"
   ]
  },
  {
   "cell_type": "code",
   "execution_count": 2,
   "id": "3939e20f",
   "metadata": {
    "colab": {
     "base_uri": "https://localhost:8080/"
    },
    "id": "3939e20f",
    "outputId": "abbc959e-c456-4e7c-9ed6-610ab5713f51"
   },
   "outputs": [
    {
     "data": {
      "text/plain": [
       "Iris-setosa        50\n",
       "Iris-versicolor    50\n",
       "Iris-virginica     50\n",
       "Name: species, dtype: int64"
      ]
     },
     "execution_count": 2,
     "metadata": {},
     "output_type": "execute_result"
    }
   ],
   "source": [
    "df.species.value_counts()"
   ]
  },
  {
   "cell_type": "code",
   "execution_count": 14,
   "id": "1187a50c",
   "metadata": {
    "id": "1187a50c"
   },
   "outputs": [],
   "source": [
    "def predict_one(sepal_length, sepal_width, petal_length, petal_width): # DON'T CHANGE THIS LINE\n",
    "    # your code\n",
    "    if petal_length < 2.6:\n",
    "        return 'Iris-setosa'\n",
    "    elif petal_length < 4.8:\n",
    "        return 'Iris-versicolor'\n",
    "    else:\n",
    "        return 'Iris-virginica'"
   ]
  },
  {
   "cell_type": "code",
   "execution_count": 15,
   "id": "567ee68e",
   "metadata": {
    "colab": {
     "base_uri": "https://localhost:8080/"
    },
    "id": "567ee68e",
    "outputId": "9552de7f-ebbe-47ce-9c7a-edc9b68e1b27"
   },
   "outputs": [
    {
     "name": "stdout",
     "output_type": "stream",
     "text": [
      "Accuracy: 0.9533333333333334\n"
     ]
    }
   ],
   "source": [
    "## DO NOT MODIFY THIS CELL\n",
    "def show_accuracy():\n",
    "    predictions = pd.Series([ predict_one(sl, sw, pl, pw) for sl, sw, pl, pw in zip(df.sepal_length, df.sepal_width, df.petal_length, df.petal_width)])\n",
    "    accuracy = sum(df.species == predictions) / len(df)\n",
    "    print(f\"Accuracy: {accuracy}\")\n",
    "\n",
    "show_accuracy()"
   ]
  },
  {
   "cell_type": "code",
   "execution_count": null,
   "id": "a85e1005",
   "metadata": {
    "id": "a85e1005"
   },
   "outputs": [],
   "source": []
  }
 ],
 "metadata": {
  "colab": {
   "provenance": []
  },
  "kernelspec": {
   "display_name": "Python 3 (ipykernel)",
   "language": "python",
   "name": "python3"
  },
  "language_info": {
   "codemirror_mode": {
    "name": "ipython",
    "version": 3
   },
   "file_extension": ".py",
   "mimetype": "text/x-python",
   "name": "python",
   "nbconvert_exporter": "python",
   "pygments_lexer": "ipython3",
   "version": "3.11.5"
  },
  "toc": {
   "base_numbering": 1,
   "nav_menu": {},
   "number_sections": true,
   "sideBar": true,
   "skip_h1_title": false,
   "title_cell": "Table of Contents",
   "title_sidebar": "Contents",
   "toc_cell": false,
   "toc_position": {},
   "toc_section_display": true,
   "toc_window_display": false
  }
 },
 "nbformat": 4,
 "nbformat_minor": 5
}
