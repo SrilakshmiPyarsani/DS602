{
 "cells": [
  {
   "cell_type": "markdown",
   "metadata": {
    "id": "ixnnKMhGMCBF"
   },
   "source": [
    "# Week6 - Classifier Evaluation Assignment\n",
    "\n",
    "- Complete this Jupyter Notebook.  \n",
    "- Execute the initial cells and answer the numbered questions.  \n",
    "- Don't import other libraries."
   ]
  },
  {
   "cell_type": "code",
   "execution_count": 1,
   "metadata": {
    "id": "pawcYRz_MCBI",
    "outputId": "970cc753-f17e-4d3d-e8ba-3e7acd813a43"
   },
   "outputs": [
    {
     "data": {
      "text/html": [
       "<div>\n",
       "<style scoped>\n",
       "    .dataframe tbody tr th:only-of-type {\n",
       "        vertical-align: middle;\n",
       "    }\n",
       "\n",
       "    .dataframe tbody tr th {\n",
       "        vertical-align: top;\n",
       "    }\n",
       "\n",
       "    .dataframe thead th {\n",
       "        text-align: right;\n",
       "    }\n",
       "</style>\n",
       "<table border=\"1\" class=\"dataframe\">\n",
       "  <thead>\n",
       "    <tr style=\"text-align: right;\">\n",
       "      <th></th>\n",
       "      <th>actual</th>\n",
       "      <th>prob</th>\n",
       "    </tr>\n",
       "  </thead>\n",
       "  <tbody>\n",
       "    <tr>\n",
       "      <th>0</th>\n",
       "      <td>0.0</td>\n",
       "      <td>0.380052</td>\n",
       "    </tr>\n",
       "    <tr>\n",
       "      <th>1</th>\n",
       "      <td>1.0</td>\n",
       "      <td>0.827923</td>\n",
       "    </tr>\n",
       "    <tr>\n",
       "      <th>2</th>\n",
       "      <td>1.0</td>\n",
       "      <td>0.929093</td>\n",
       "    </tr>\n",
       "    <tr>\n",
       "      <th>3</th>\n",
       "      <td>1.0</td>\n",
       "      <td>0.472508</td>\n",
       "    </tr>\n",
       "    <tr>\n",
       "      <th>4</th>\n",
       "      <td>1.0</td>\n",
       "      <td>0.906988</td>\n",
       "    </tr>\n",
       "  </tbody>\n",
       "</table>\n",
       "</div>"
      ],
      "text/plain": [
       "   actual      prob\n",
       "0     0.0  0.380052\n",
       "1     1.0  0.827923\n",
       "2     1.0  0.929093\n",
       "3     1.0  0.472508\n",
       "4     1.0  0.906988"
      ]
     },
     "execution_count": 1,
     "metadata": {},
     "output_type": "execute_result"
    }
   ],
   "source": [
    "import pandas as pd\n",
    "import numpy as np\n",
    "import matplotlib.pyplot as plt\n",
    "%matplotlib inline\n",
    "\n",
    "results = pd.read_csv('https://raw.githubusercontent.com/msaricaumbc/DS_data/master/ds602/lab-evaluation-data.csv')\n",
    "results.head()"
   ]
  },
  {
   "cell_type": "markdown",
   "metadata": {
    "id": "oie8WvFGMCBK"
   },
   "source": [
    "## Data Definitions\n",
    "- `actual`: Whether the event was true or not. A value of 1.0 is True and 0.0 is False.  \n",
    "- `prob`: The probability that the event was True. This is estimated from a classification model."
   ]
  },
  {
   "cell_type": "markdown",
   "metadata": {
    "id": "VE7OyoxQMCBK"
   },
   "source": [
    "## Question 1\n",
    "- Determine the distribution of the actual event.\n",
    "- Would you be concerned about bias due to imbalance?"
   ]
  },
  {
   "cell_type": "code",
   "execution_count": 2,
   "metadata": {
    "id": "1V1i-exMMCBK"
   },
   "outputs": [
    {
     "name": "stdout",
     "output_type": "stream",
     "text": [
      "actual\n",
      "1.0    3000\n",
      "0.0    2000\n",
      "Name: count, dtype: int64\n"
     ]
    }
   ],
   "source": [
    "#Distribution of the actual event.\n",
    "actual_distribution = results['actual'].value_counts()\n",
    "print(actual_distribution)\n"
   ]
  },
  {
   "cell_type": "markdown",
   "metadata": {
    "id": "z9QDbK_BMCBK"
   },
   "source": [
    "### Observations\n",
    "Yes, I would be concered about bias due the imbalance in the dataset as it produces skewed results and could have impact on the model performance thus leading to inefficient model."
   ]
  },
  {
   "cell_type": "markdown",
   "metadata": {
    "id": "NHVWxNgxMCBK"
   },
   "source": [
    "## Question 2\n",
    "- Create a histogram that shows the distribution of the probabilities for the True and False classes.  \n",
    "- Describe what you observe."
   ]
  },
  {
   "cell_type": "code",
   "execution_count": 3,
   "metadata": {
    "scrolled": true
   },
   "outputs": [
    {
     "data": {
      "image/png": "[encoded data removed]",
      "text/plain": [
       "<Figure size 640x480 with 1 Axes>"
      ]
     },
     "metadata": {},
     "output_type": "display_data"
    }
   ],
   "source": [
    "plt.hist([results[results['actual'] == 1.0]['prob'], results[results['actual'] == 0.0]['prob']], label=['True', 'False'])\n",
    "plt.xlabel('Probability') \n",
    "plt.ylabel('Frequency')\n",
    "plt.title('Distribution of Probabilities for True and False Classes')\n",
    "plt.legend()\n",
    "plt.show()"
   ]
  },
  {
   "cell_type": "markdown",
   "metadata": {
    "id": "RABA0bO3MCBL"
   },
   "source": [
    "### Observations\n",
    "\n",
    "The above histogram graph represents two sets True events and False events of the'prob' column. \"True\" columns are represented using \"blue\" and \"False\" as \"orange\".\n",
    "\n",
    "We can observe that there is some overlap in the values range 0.2 to 0.6."
   ]
  },
  {
   "cell_type": "markdown",
   "metadata": {
    "id": "C3drdnquMCBL"
   },
   "source": [
    "## Question 3\n",
    "- Create a simple confusion matrix. Use `0.5` as the threshold for whether an observation should be considered True or False.  \n",
    "- Comment on what you observe."
   ]
  },
  {
   "cell_type": "code",
   "execution_count": 4,
   "metadata": {
    "id": "LCRScoZpMCBM"
   },
   "outputs": [],
   "source": [
    "threshold = 0.5\n",
    "predictions = results['prob'] >= threshold"
   ]
  },
  {
   "cell_type": "code",
   "execution_count": 5,
   "metadata": {},
   "outputs": [],
   "source": [
    "confusion_matrix = pd.crosstab(results['actual'], predictions)"
   ]
  },
  {
   "cell_type": "code",
   "execution_count": 6,
   "metadata": {},
   "outputs": [
    {
     "name": "stdout",
     "output_type": "stream",
     "text": [
      "prob    False  True \n",
      "actual              \n",
      "0.0      1790    210\n",
      "1.0       377   2623\n"
     ]
    }
   ],
   "source": [
    "print(confusion_matrix)"
   ]
  },
  {
   "cell_type": "markdown",
   "metadata": {
    "id": "5NsRMjZUMCBM"
   },
   "source": [
    "### Observations\n",
    "1. True Negatives: 1790 instances were correctly predicted as negative.\n",
    "2. False Positives: 210 instances which are actually negative were incorrectly predicted as positive.\n",
    "3. False Negatives: 377 instances that are postive were incorrectly predicted as negative.\n",
    "4. True Positives : 2623 instances were correctly predicted as positive."
   ]
  },
  {
   "cell_type": "markdown",
   "metadata": {
    "id": "ma2vtBpQMCBM"
   },
   "source": [
    "## Question 4\n",
    "- Calculate the accuracy, precision, and recall `without` using any pre-built functions.\n",
    "- Which measure would you use if this was your model and why?"
   ]
  },
  {
   "cell_type": "code",
   "execution_count": 7,
   "metadata": {
    "id": "CQTDfEGLMCBM"
   },
   "outputs": [],
   "source": [
    "true_positive = ((results['actual'] == 1.0) & (predictions == 1)).sum()\n",
    "true_negative = ((results['actual'] == 0.0) & (predictions == 0)).sum()\n",
    "false_positive = ((results['actual'] == 0.0) & (predictions == 1)).sum()\n",
    "false_negative = ((results['actual'] == 1.0) & (predictions == 0)).sum()\n"
   ]
  },
  {
   "cell_type": "code",
   "execution_count": 8,
   "metadata": {},
   "outputs": [],
   "source": [
    "accuracy = (true_positive + true_negative) / len(results)\n",
    "precision = true_positive / (true_positive + false_positive)\n",
    "recall = true_positive / (true_positive + false_negative)\n"
   ]
  },
  {
   "cell_type": "code",
   "execution_count": 9,
   "metadata": {},
   "outputs": [
    {
     "name": "stdout",
     "output_type": "stream",
     "text": [
      "Accuracy: 0.8826\n",
      "Precision: 0.9258736321920226\n",
      "Recall: 0.8743333333333333\n"
     ]
    }
   ],
   "source": [
    "#results\n",
    "print(\"Accuracy:\", accuracy)\n",
    "print(\"Precision:\", precision)\n",
    "print(\"Recall:\", recall)\n"
   ]
  },
  {
   "cell_type": "markdown",
   "metadata": {
    "id": "hzUUqI25MCBM"
   },
   "source": [
    "### Observatrions\n",
    "I would use \"F1 Scores\", \"Precision\", \"Recall\" and additionally \"Confusion Matrix\" as measure for model performance for following reasons:\n",
    "\n",
    "1) Precision is useful when false positives are high\n",
    "2) Recall measure focuses on the model's ability to detect poisitive cases.\n",
    "3) F1 score is useful to consider a single metric to consider both precision and recall\n",
    "4) Finally, confusion matrix gives us the insights to the distribution of True positives, True negatives, False positives and False negatives\n",
    "\n",
    "ROC curve and AUC score are also useful in determining the model performance in this cases."
   ]
  },
  {
   "cell_type": "markdown",
   "metadata": {
    "id": "QaPIIqKdMCBM"
   },
   "source": [
    "## Question 5\n",
    "- Construct a ROC curve plot.  \n",
    "- Comment on the fit of the model based on this chart."
   ]
  },
  {
   "cell_type": "code",
   "execution_count": 33,
   "metadata": {},
   "outputs": [],
   "source": [
    "tpr = true_positive / (true_positive + false_negative)\n",
    "fpr = false_positive / (false_positive + true_negative)"
   ]
  },
  {
   "cell_type": "code",
   "execution_count": 35,
   "metadata": {
    "id": "LeZpC9lLMCBM"
   },
   "outputs": [
    {
     "data": {
      "image/png": "[encoded data removed]",
      "text/plain": [
       "<Figure size 800x800 with 1 Axes>"
      ]
     },
     "metadata": {},
     "output_type": "display_data"
    }
   ],
   "source": [
    "# Plotting  the ROC curve\n",
    "plt.figure(figsize=(8, 8))\n",
    "plt.plot(fpr, tpr, marker='o')\n",
    "plt.plot([0, 1], [0, 1], linestyle='--', color='gray')  \n",
    "plt.grid(True)\n",
    "plt.xlabel('False Positive Rate')\n",
    "plt.ylabel('True Positive Rate')\n",
    "plt.title('ROC Curve')\n",
    "plt.show()"
   ]
  },
  {
   "cell_type": "markdown",
   "metadata": {
    "id": "Wlhz8qRoMCBM"
   },
   "source": [
    "### Observation\n",
    "The above ROC curve representsthe model's performance, but it doesn't have a single \"ideal\" point. Instead, the performance of a model is assessed based on the entire curve or a summary metric such as the Area Under the Curve (AUC). Results shows the point towards the true positive side."
   ]
  },
  {
   "cell_type": "code",
   "execution_count": null,
   "metadata": {},
   "outputs": [],
   "source": []
  }
 ],
 "metadata": {
  "colab": {
   "provenance": []
  },
  "kernelspec": {
   "display_name": "Python 3 (ipykernel)",
   "language": "python",
   "name": "python3"
  },
  "language_info": {
   "codemirror_mode": {
    "name": "ipython",
    "version": 3
   },
   "file_extension": ".py",
   "mimetype": "text/x-python",
   "name": "python",
   "nbconvert_exporter": "python",
   "pygments_lexer": "ipython3",
   "version": "3.11.5"
  },
  "toc": {
   "base_numbering": 1,
   "nav_menu": {},
   "number_sections": false,
   "sideBar": true,
   "skip_h1_title": false,
   "title_cell": "Table of Contents",
   "title_sidebar": "Contents",
   "toc_cell": false,
   "toc_position": {},
   "toc_section_display": true,
   "toc_window_display": false
  }
 },
 "nbformat": 4,
 "nbformat_minor": 1
}
